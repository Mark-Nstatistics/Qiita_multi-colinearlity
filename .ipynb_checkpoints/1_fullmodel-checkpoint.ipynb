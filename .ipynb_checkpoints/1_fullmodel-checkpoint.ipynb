{
 "cells": [
  {
   "cell_type": "markdown",
   "id": "6c41c459-1f86-4a49-ad46-c29b06299b69",
   "metadata": {},
   "source": [
    "# 問題設定"
   ]
  },
  {
   "cell_type": "markdown",
   "id": "584d48bb-180a-45a7-9464-a544af1b827d",
   "metadata": {},
   "source": [
    "$y = 3 + 5*X_1 + 10*X_2 + 20*X_3 + ε$\n",
    "\n",
    "で $X_1$ と $X_2$ に相関がある場合を考える"
   ]
  },
  {
   "cell_type": "code",
   "execution_count": 4,
   "id": "20ee5824-b707-43f3-9495-75b0ffe9ef35",
   "metadata": {},
   "outputs": [],
   "source": [
    "library(ggplot2)\n",
    "library(gridExtra)\n",
    "library(latex2exp)\n",
    "library(dplyr)\n",
    "library(tidyr)\n",
    "library(foreach)\n",
    "library(doParallel)"
   ]
  },
  {
   "cell_type": "markdown",
   "id": "3be8655d-11de-437f-bfea-d36e84b6b0de",
   "metadata": {},
   "source": [
    "# ① 全ての説明変数を使う"
   ]
  },
  {
   "cell_type": "markdown",
   "id": "cd94d90c-70f9-428b-a7a2-f154e79ac315",
   "metadata": {},
   "source": [
    "### データ生成の設定"
   ]
  },
  {
   "cell_type": "code",
   "execution_count": 5,
   "id": "6e52caf9-e5ec-493d-adc0-60502ccef74f",
   "metadata": {},
   "outputs": [],
   "source": [
    "# 実験する相関係数のリスト\n",
    "rho.list <- seq(0.1, 0.999, 0.01)\n",
    "rho.len <- length(rho.list)\n",
    "\n",
    "# サンプルサイズ：200\n",
    "n <- 200\n",
    "\n",
    "# 各相関係数に対して1,000回実験\n",
    "K <- 1000"
   ]
  },
  {
   "cell_type": "markdown",
   "id": "2600ecf7-052e-44b6-8b40-1fc526180ecd",
   "metadata": {},
   "source": [
    "### 結果の格納場所"
   ]
  },
  {
   "cell_type": "code",
   "execution_count": 6,
   "id": "b8a700f3-4a3a-4a1c-8654-26a1469c0d90",
   "metadata": {},
   "outputs": [],
   "source": [
    "# 平均\n",
    "mean_0 <- numeric(rho.len)\n",
    "mean_1 <- numeric(rho.len)\n",
    "mean_2 <- numeric(rho.len)\n",
    "mean_3 <- numeric(rho.len)\n",
    "\n",
    "# 分散\n",
    "var_0 <- numeric(rho.len)\n",
    "var_1 <- numeric(rho.len)\n",
    "var_2 <- numeric(rho.len)\n",
    "var_3 <- numeric(rho.len)"
   ]
  },
  {
   "cell_type": "markdown",
   "id": "9b9691f1-ad78-4616-92d3-61f14e3e0bf2",
   "metadata": {},
   "source": [
    "### 実験"
   ]
  },
  {
   "cell_type": "code",
   "execution_count": 7,
   "id": "944a8f0e-cd29-42d7-9191-691c53eb52c5",
   "metadata": {},
   "outputs": [],
   "source": [
    "# データを生成する関数\n",
    "\n",
    "generate_data <- function(K, n, rho){\n",
    "    # データは一括生成(for文遅い気がする)\n",
    "    # n*K個の乱数をK行n列に配置し直す（1回の実験が行になっている）\n",
    "    x1 <- matrix(runif(n * K, 0, 50), nrow = n, ncol = K)\n",
    "    x2 <- matrix(runif(n * K, 0, 50), nrow = n, ncol = K)\n",
    "    e1 <- matrix(runif(n * K, 0, 50), nrow = n, ncol = K)\n",
    "\n",
    "    # 相関を持つデータを計算\n",
    "    X1 <- sqrt(rho) * e1 + sqrt(1 - rho) * x1\n",
    "    X2 <- sqrt(rho) * e1 + sqrt(1 - rho) * x2\n",
    "    X3 <- matrix(runif(n * K, 0, 100), nrow = n, ncol = K)\n",
    "    e  <- matrix(rnorm(n * K, 0, 25), nrow = n, ncol = K)\n",
    "\n",
    "    # yを計算\n",
    "    y <- 3 + 5 * X1 + 10 * X2 + 20 * X3 + e\n",
    "\n",
    "    # 出力\n",
    "    return(list(y=y, X1=X1, X2=X2, X3=X3))\n",
    "}"
   ]
  },
  {
   "cell_type": "code",
   "execution_count": 8,
   "id": "cae003da-3531-4632-9de5-0f1cc1724133",
   "metadata": {},
   "outputs": [],
   "source": [
    "library(foreach)\n",
    "library(doParallel)\n",
    "\n",
    "# 並列処理のコア数を設定（使用可能なコア数-1が一般的）\n",
    "cores <- parallel::detectCores() - 1\n",
    "cl <- makeCluster(cores)\n",
    "registerDoParallel(cl)\n",
    "\n",
    "set.seed(42)\n",
    "\n",
    "# 並列処理で結果を計算\n",
    "results <- foreach(i = seq_len(rho.len), .combine = 'rbind') %dopar% {\n",
    "    rho <- rho.list[i]\n",
    "    \n",
    "    # データ作成\n",
    "    df <- generate_data(K, n, rho)\n",
    "    df_test <- generate_data(K, 1000, rho)\n",
    "    \n",
    "    # 各Kについての結果を保存\n",
    "    local_results <- matrix(0, nrow = K, ncol = 6)\n",
    "    \n",
    "    for (k in seq_len(K)) {\n",
    "        d_k <- data.frame(\n",
    "            y = df$y[, k],\n",
    "            X1 = df$X1[, k],\n",
    "            X2 = df$X2[, k],\n",
    "            X3 = df$X3[, k]\n",
    "        )\n",
    "        \n",
    "        fit <- lm(y~., data=d_k)\n",
    "        \n",
    "        d_k.test <- data.frame(\n",
    "            X1 = df_test$X1[, k],\n",
    "            X2 = df_test$X2[, k],\n",
    "            X3 = df_test$X3[, k]\n",
    "        )\n",
    "        \n",
    "        y_test <- df_test$y[, k]\n",
    "        y_pred <- predict(fit, d_k.test)\n",
    "        mse <- mean((y_test - y_pred)^2)\n",
    "        \n",
    "        local_results[k, ] <- c(rho, fit$coefficients, mse)\n",
    "    }\n",
    "    \n",
    "    local_results\n",
    "}\n",
    "\n",
    "# クラスターを閉じる\n",
    "stopCluster(cl)\n",
    "\n",
    "# 結果をデータフレームに変換\n",
    "df_results <- as.data.frame(results)\n",
    "colnames(df_results) <- c(\"rho\", \"coef_0\", \"coef_1\", \"coef_2\", \"coef_3\", \"error\")"
   ]
  },
  {
   "cell_type": "markdown",
   "id": "75fa9f8e-5e5b-42fc-8997-30f778e5c968",
   "metadata": {},
   "source": [
    "## 結果の確認"
   ]
  },
  {
   "cell_type": "markdown",
   "id": "be46ae75-54f9-473e-a1f1-733aed76187d",
   "metadata": {},
   "source": [
    "### - 平均のプロット"
   ]
  },
  {
   "cell_type": "code",
   "execution_count": 9,
   "id": "a00a5320-5b74-47ea-9bcf-e665cf36e625",
   "metadata": {},
   "outputs": [],
   "source": [
    "coef_mean <- df_results %>%\n",
    "  group_by(rho) %>%\n",
    "  summarise(mean_0 = mean(coef_0, na.rm = TRUE),\n",
    "            mean_1 = mean(coef_1, na.rm = TRUE),\n",
    "            mean_2 = mean(coef_2, na.rm = TRUE),\n",
    "            mean_3 = mean(coef_3, na.rm = TRUE))"
   ]
  },
  {
   "cell_type": "code",
   "execution_count": 35,
   "id": "874ea35c-3b30-44e2-a445-b0c93fdda5fc",
   "metadata": {},
   "outputs": [
    {
     "data": {
      "image/png": "[encoded data removed]",
      "text/plain": [
       "plot without title"
      ]
     },
     "metadata": {
      "image/png": {
       "height": 420,
       "width": 420
      }
     },
     "output_type": "display_data"
    }
   ],
   "source": [
    "p.mean_0 <- ggplot(data=coef_mean, aes(x=rho, y=mean_0)) +\n",
    "  geom_line(color=\"royalblue\") +\n",
    "  geom_point(color=\"royalblue\") +\n",
    "  ylim(1, 5) +\n",
    "  ylab(\"mean of Intercept\") +\n",
    "  xlab(\"cor(x1,x2)\") +\n",
    "  theme(text = element_text(family = \"sans\"))\n",
    "\n",
    "p.mean_1 <- ggplot(data=coef_mean, aes(x=rho, y=mean_1)) +\n",
    "  geom_line(color = \"red\") +\n",
    "  geom_point(color = \"red\") +\n",
    "  ylim(3, 7) +\n",
    "  ylab(\"mean of β1\") +\n",
    "  xlab(\"cor(x1,x2)\") +\n",
    "  theme(text = element_text(family = \"sans\"))\n",
    "\n",
    "p.mean_2 <- ggplot(data=coef_mean, aes(x=rho, y=mean_2)) +\n",
    "  geom_line(color = \"red\") +\n",
    "  geom_point(color = \"red\") +\n",
    "  ylim(8, 12) +\n",
    "  ylab(\"mean of β2\") +\n",
    "  xlab(\"cor(x1,x2)\") +\n",
    "  theme(text = element_text(family = \"sans\"))\n",
    "\n",
    "p.mean_3 <- ggplot(data=coef_mean, aes(x=rho, y=mean_3)) +\n",
    "  geom_line(color = \"royalblue\") +\n",
    "  geom_point(color = \"royalblue\") +\n",
    "  ylim(18, 22) +\n",
    "  ylab(\"mean of β3\") +\n",
    "  xlab(\"cor(x1,x2)\") +\n",
    "  theme(text = element_text(family = \"sans\"))\n",
    "\n",
    "gridExtra::grid.arrange(p.mean_0, p.mean_1, p.mean_2, p.mean_3)"
   ]
  },
  {
   "cell_type": "code",
   "execution_count": 12,
   "id": "b4df611a-ad0b-458f-bfab-a1db2e7e74a7",
   "metadata": {},
   "outputs": [
    {
     "data": {
      "text/html": [
       "<strong>pdf:</strong> 2"
      ],
      "text/latex": [
       "\\textbf{pdf:} 2"
      ],
      "text/markdown": [
       "**pdf:** 2"
      ],
      "text/plain": [
       "pdf \n",
       "  2 "
      ]
     },
     "metadata": {},
     "output_type": "display_data"
    }
   ],
   "source": [
    "# png形式で出力\n",
    "png(\"1_full-model/coefficient_means_plot.png\", width = 10, height = 7, units = \"in\", res = 300)\n",
    "gridExtra::grid.arrange(p.mean_0, p.mean_1, p.mean_2, p.mean_3)\n",
    "dev.off()"
   ]
  },
  {
   "cell_type": "markdown",
   "id": "4c054237-d032-48c3-8bd0-dea827cd53ff",
   "metadata": {},
   "source": [
    "### - 分散のプロット"
   ]
  },
  {
   "cell_type": "code",
   "execution_count": 13,
   "id": "fb5d7331-71cc-4fff-90f2-09e2c4402cf3",
   "metadata": {},
   "outputs": [],
   "source": [
    "coef_var <- df_results %>%\n",
    "  group_by(rho) %>%\n",
    "  summarise(\n",
    "    var_0 = var(coef_0, na.rm = TRUE),\n",
    "    var_1 = var(coef_1, na.rm = TRUE),\n",
    "    var_2 = var(coef_2, na.rm = TRUE),\n",
    "    var_3 = var(coef_3, na.rm = TRUE)\n",
    "  )"
   ]
  },
  {
   "cell_type": "code",
   "execution_count": 31,
   "id": "911db44f-b802-4a9f-893e-37d63729e937",
   "metadata": {},
   "outputs": [
    {
     "data": {
      "image/png": "[encoded data removed]",
      "text/plain": [
       "plot without title"
      ]
     },
     "metadata": {
      "image/png": {
       "height": 420,
       "width": 420
      }
     },
     "output_type": "display_data"
    }
   ],
   "source": [
    "p.var_0 <- ggplot(data=coef_var, aes(x=rho, y=var_0)) +\n",
    "  geom_line(color=\"royalblue\") +\n",
    "  geom_point(color=\"royalblue\") +\n",
    "  ylab(\"variance of Intercept\") +\n",
    "  xlab(\"cor(x1,x2)\") \n",
    "\n",
    "p.var_1 <- ggplot(data=coef_var, aes(x=rho, y=var_1)) +\n",
    "  geom_line(color = \"red\") +\n",
    "  geom_point(color = \"red\") +\n",
    "  ylab(\"variance of β1\") +\n",
    "  xlab(\"cor(x1,x2)\")\n",
    "\n",
    "p.var_2 <- ggplot(data=coef_var, aes(x=rho, y=var_2)) +\n",
    "  geom_line(color = \"red\") +\n",
    "  geom_point(color = \"red\") +\n",
    "  ylab(\"variance of β2\") +\n",
    "  xlab(\"cor(x1,x2)\")\n",
    "\n",
    "p.var_3 <- ggplot(data=coef_var, aes(x=rho, y=var_3)) +\n",
    "  geom_line(color = \"royalblue\") +\n",
    "  geom_point(color = \"royalblue\") +\n",
    "  ylab(\"variance of β3\") +\n",
    "  xlab(\"cor(x1,x2)\") \n",
    "\n",
    "gridExtra::grid.arrange(p.var_0, p.var_1, p.var_2, p.var_3)"
   ]
  },
  {
   "cell_type": "code",
   "execution_count": 15,
   "id": "0b9c79be-7699-4342-b335-b07be38be359",
   "metadata": {},
   "outputs": [
    {
     "data": {
      "text/html": [
       "<strong>pdf:</strong> 2"
      ],
      "text/latex": [
       "\\textbf{pdf:} 2"
      ],
      "text/markdown": [
       "**pdf:** 2"
      ],
      "text/plain": [
       "pdf \n",
       "  2 "
      ]
     },
     "metadata": {},
     "output_type": "display_data"
    }
   ],
   "source": [
    "# png形式で出力\n",
    "png(\"1_full-model/coefficient_variance_plot.png\", width = 10, height = 7, units = \"in\", res = 300)\n",
    "gridExtra::grid.arrange(p.var_0, p.var_1, p.var_2, p.var_3)\n",
    "dev.off()"
   ]
  },
  {
   "cell_type": "markdown",
   "id": "09fec7b9-6e61-4c0b-b8ca-dd22a2d9e9c0",
   "metadata": {},
   "source": [
    "### - 期待予測誤差（MSEの平均）"
   ]
  },
  {
   "cell_type": "code",
   "execution_count": 16,
   "id": "5a9ec28b-da42-4fb1-bb86-287dabfac875",
   "metadata": {},
   "outputs": [],
   "source": [
    "Err <- df_results %>%\n",
    "  group_by(rho) %>%\n",
    "  summarise(Err = mean(error, na.rm = TRUE))"
   ]
  },
  {
   "cell_type": "code",
   "execution_count": 30,
   "id": "fa0b18b2-9119-4f1d-ba92-d892dd2d7f0b",
   "metadata": {},
   "outputs": [
    {
     "data": {
      "image/png": "[encoded data removed]",
      "text/plain": [
       "plot without title"
      ]
     },
     "metadata": {
      "image/png": {
       "height": 420,
       "width": 420
      }
     },
     "output_type": "display_data"
    }
   ],
   "source": [
    "p.Err <- ggplot(data=Err, aes(x=rho, y=Err)) +\n",
    "  geom_line(color=\"royalblue\") +\n",
    "  geom_point(color=\"royalblue\") +\n",
    "  ylab(\"Err\") +\n",
    "  xlab(\"cor(x1,x2)\") \n",
    "\n",
    "p.Err"
   ]
  },
  {
   "cell_type": "markdown",
   "id": "b98b2c91-4263-437e-a3db-4530f219111d",
   "metadata": {},
   "source": [
    "### - 回帰係数のMSE"
   ]
  },
  {
   "cell_type": "code",
   "execution_count": 24,
   "id": "91092a59-53b9-4452-8d33-619d80e831db",
   "metadata": {},
   "outputs": [],
   "source": [
    "MSE_beta <- df_results %>%\n",
    "  group_by(rho) %>%\n",
    "  summarise(MSE_beta0 = mean((coef_0 - 3)^2),\n",
    "            MSE_beta1 = mean((coef_1 - 5)^2),\n",
    "            MSE_beta2 = mean((coef_2 - 10)^2),\n",
    "            MSE_beta3 = mean((coef_3 - 20)^2))"
   ]
  },
  {
   "cell_type": "code",
   "execution_count": 29,
   "id": "d977aa2b-95c7-4e83-b5c3-40125ba06ea7",
   "metadata": {},
   "outputs": [
    {
     "data": {
      "image/png": "[encoded data removed]",
      "text/plain": [
       "plot without title"
      ]
     },
     "metadata": {
      "image/png": {
       "height": 420,
       "width": 420
      }
     },
     "output_type": "display_data"
    }
   ],
   "source": [
    "p.MSE_beta0 <- ggplot(data=MSE_beta, aes(x=rho, y=MSE_beta0)) +\n",
    "  geom_line(color=\"royalblue\") +\n",
    "  geom_point(color=\"royalblue\") +\n",
    "  ylab(\"MSE of Intercept\") +\n",
    "  xlab(\"cor(x1,x2)\") \n",
    "\n",
    "p.MSE_beta1 <- ggplot(data=MSE_beta, aes(x=rho, y=MSE_beta1)) +\n",
    "  geom_line(color = \"red\") +\n",
    "  geom_point(color = \"red\") +\n",
    "  ylab(\"MSE of β1\") +\n",
    "  xlab(\"cor(x1,x2)\")\n",
    "\n",
    "p.MSE_beta2 <- ggplot(data=MSE_beta, aes(x=rho, y=MSE_beta2)) +\n",
    "  geom_line(color = \"red\") +\n",
    "  geom_point(color = \"red\") +\n",
    "  ylab(\"vMSE of β2\") +\n",
    "  xlab(\"cor(x1,x2)\")\n",
    "\n",
    "p.MSE_beta3 <- ggplot(data=MSE_beta, aes(x=rho, y=MSE_beta3)) +\n",
    "  geom_line(color = \"royalblue\") +\n",
    "  geom_point(color = \"royalblue\") +\n",
    "  ylab(\"MSE of β3\") +\n",
    "  xlab(\"cor(x1,x2)\") \n",
    "\n",
    "gridExtra::grid.arrange(p.MSE_beta0, p.MSE_beta1, p.MSE_beta2, p.MSE_beta3)"
   ]
  },
  {
   "cell_type": "markdown",
   "id": "7333b9be-d651-411d-9aa6-7717db303720",
   "metadata": {},
   "source": [
    "### - 一致性の確認"
   ]
  },
  {
   "cell_type": "code",
   "execution_count": 27,
   "id": "4bc37bba-82e7-4e09-b9ec-85a9e7c9f102",
   "metadata": {},
   "outputs": [],
   "source": [
    "# 実験する相関係数のリスト\n",
    "rho09 <- 0.9\n",
    "# サンプルサイズの最大50,000\n",
    "n.list <- 50000\n",
    "\n",
    "b0_consistent <- numeric(n.list)\n",
    "b1_consistent <- numeric(n.list)\n",
    "b2_consistent <- numeric(n.list)\n",
    "b3_consistent <- numeric(n.list)\n",
    "\n",
    "set.seed(42)\n",
    "for(i in 20:n.list){\n",
    "  x1 <- runif(i, 0, 50)\n",
    "  x2 <- runif(i, 0, 50)\n",
    "  e1 <- runif(i, 0, 50)\n",
    "  \n",
    "  X1 <- sqrt(rho09) * e1 + sqrt(1 - rho09) * x1\n",
    "  X2 <- sqrt(rho09) * e1 + sqrt(1 - rho09) * x2\n",
    "  X3 <- runif(i, 0, 100)\n",
    "  e <- rnorm(i, 0, 25)\n",
    "  \n",
    "  y <- 3 + 5*X1 + 10*X2 + 20*X3 + e\n",
    "  X <- cbind(X1, X2, X3)\n",
    "  \n",
    "  ln <- lm(y~X)\n",
    "  b0_consistent[i] <- ln$coefficients[1]\n",
    "  b1_consistent[i] <- ln$coefficients[2]\n",
    "  b2_consistent[i] <- ln$coefficients[3]\n",
    "  b3_consistent[i] <- ln$coefficients[4]\n",
    "}\n",
    "\n",
    "\n",
    "df0 <- data.frame(20:50000, b0_consistent[20:50000])\n",
    "df1 <- data.frame(20:50000, b1_consistent[20:50000])\n",
    "df2 <- data.frame(20:50000, b2_consistent[20:50000])\n",
    "df3 <- data.frame(20:50000, b3_consistent[20:50000])\n",
    "colnames(df0) <- c(\"n\", \"b0\")\n",
    "colnames(df1) <- c(\"n\", \"b1\")\n",
    "colnames(df2) <- c(\"n\", \"b2\")\n",
    "colnames(df3) <- c(\"n\", \"b3\")"
   ]
  },
  {
   "cell_type": "code",
   "execution_count": 34,
   "id": "ad5669dd-524b-4b88-90e5-e19fb83544cd",
   "metadata": {},
   "outputs": [
    {
     "data": {
      "image/png": "[encoded data removed]",
      "text/plain": [
       "plot without title"
      ]
     },
     "metadata": {
      "image/png": {
       "height": 420,
       "width": 420
      }
     },
     "output_type": "display_data"
    }
   ],
   "source": [
    "p0 <- ggplot(data=df0, aes(x=n, y=b0)) +\n",
    "  geom_line(color = \"royalblue\") +\n",
    "  geom_point(color = \"royalblue\") +\n",
    "  geom_hline(yintercept = 3, color=\"red\") +\n",
    "  ylab(\"estimate of Intercept\") +\n",
    "  xlab(\"n\")\n",
    "\n",
    "p1 <- ggplot(data=df1, aes(x=n, y=b1)) +\n",
    "  geom_line(color = \"royalblue\") +\n",
    "  geom_point(color = \"royalblue\") +\n",
    "  geom_hline(yintercept = 5, color=\"red\") +\n",
    "  ylab(\"estimate of β1\") +\n",
    "  xlab(\"n\")\n",
    "\n",
    "p2 <- ggplot(data=df2, aes(x=n, y=b2)) +\n",
    "  geom_line(color = \"royalblue\") +\n",
    "  geom_point(color = \"royalblue\") +\n",
    "  geom_hline(yintercept = 10, color=\"red\") +\n",
    "  ylab(\"estimate of β2\") +\n",
    "  xlab(\"n\")\n",
    "\n",
    "p3 <- ggplot(data=df3, aes(x=n, y=b3)) +\n",
    "  geom_line(color = \"royalblue\") +\n",
    "  geom_point(color = \"royalblue\") +\n",
    "  geom_hline(yintercept = 20, color=\"red\") +\n",
    "  ylab(\"estimate of β3\") +\n",
    "  xlab(\"n\")\n",
    "\n",
    "gridExtra::grid.arrange(p0, p1, p2, p3)"
   ]
  },
  {
   "cell_type": "code",
   "execution_count": null,
   "id": "0dd536d1-7d6d-435d-9fbd-d834ec3b26e7",
   "metadata": {},
   "outputs": [],
   "source": []
  }
 ],
 "metadata": {
  "kernelspec": {
   "display_name": "R",
   "language": "R",
   "name": "ir"
  },
  "language_info": {
   "codemirror_mode": "r",
   "file_extension": ".r",
   "mimetype": "text/x-r-source",
   "name": "R",
   "pygments_lexer": "r",
   "version": "4.2.1"
  }
 },
 "nbformat": 4,
 "nbformat_minor": 5
}
