{
 "cells": [
  {
   "cell_type": "markdown",
   "id": "74d100a8-fb85-4dee-a473-2301a3eb1fb9",
   "metadata": {},
   "source": [
    "# 問題設定"
   ]
  },
  {
   "cell_type": "markdown",
   "id": "3c7220b2-0f4a-4d12-8bd7-f3a5f00308fc",
   "metadata": {},
   "source": [
    "$y = 3 + 5*X_1 + 10*X_2 + 20*X_3 + ε$\n",
    "\n",
    "で $X_1$ と $X_2$ に相関がある場合を考える"
   ]
  },
  {
   "cell_type": "code",
   "execution_count": null,
   "id": "e5868958-318c-41e1-a91d-f680d7f5ca9b",
   "metadata": {},
   "outputs": [],
   "source": [
    "import numpy as np\n",
    "import pandas as pd\n",
    "import matplotlib.pyplot as plt\n",
    "from sklearn.linear_model import LinarRegression"
   ]
  }
 ],
 "metadata": {
  "kernelspec": {
   "display_name": "Python 3 (ipykernel)",
   "language": "python",
   "name": "python3"
  },
  "language_info": {
   "codemirror_mode": {
    "name": "ipython",
    "version": 3
   },
   "file_extension": ".py",
   "mimetype": "text/x-python",
   "name": "python",
   "nbconvert_exporter": "python",
   "pygments_lexer": "ipython3",
   "version": "3.11.4"
  }
 },
 "nbformat": 4,
 "nbformat_minor": 5
}
